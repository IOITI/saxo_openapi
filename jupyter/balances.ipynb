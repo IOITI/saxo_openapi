{
 "cells": [
  {
   "cell_type": "markdown",
   "metadata": {},
   "source": [
    "# Balances\n",
    "\n",
    "[index](./index.ipynb) |\n",
    "[accounts](./accounts.ipynb) |\n",
    "[instruments](./instrumentlookup.ipynb) |\n",
    "[trading](./trading.ipynb)\n",
    "\n",
    "All the *balance* related requests can be found in the service group: *portfolio.balances*."
   ]
  },
  {
   "cell_type": "code",
   "execution_count": 1,
   "metadata": {},
   "outputs": [],
   "source": [
    "from saxo_openapi import API\n",
    "import saxo_openapi.endpoints.portfolio as pf\n",
    "from pprint import pprint\n",
    "import juputil\n",
    "\n",
    "token = juputil.read_token()\n",
    "client = API(access_token=token)"
   ]
  },
  {
   "cell_type": "markdown",
   "metadata": {},
   "source": [
    "## Get the balance for an account\n",
    "\n",
    "First get the *clientdetails*."
   ]
  },
  {
   "cell_type": "code",
   "execution_count": 2,
   "metadata": {},
   "outputs": [
    {
     "name": "stdout",
     "output_type": "stream",
     "text": [
      "{'AccountValueProtectionLimit': 0.0,\n",
      " 'ClientId': '9300675',\n",
      " 'ClientKey': 'fOA0tvOyQqW2aHpWi9P5bw==',\n",
      " 'CurrencyDecimals': 2,\n",
      " 'DefaultAccountId': '9300675',\n",
      " 'DefaultAccountKey': 'fOA0tvOyQqW2aHpWi9P5bw==',\n",
      " 'DefaultCurrency': 'EUR',\n",
      " 'IsMarginTradingAllowed': True,\n",
      " 'IsVariationMarginEligible': False,\n",
      " 'LegalAssetTypes': ['FxSpot',\n",
      "                     'FxForwards',\n",
      "                     'FxVanillaOption',\n",
      "                     'ContractFutures',\n",
      "                     'FuturesOption',\n",
      "                     'Stock',\n",
      "                     'StockOption',\n",
      "                     'CfdOnStock',\n",
      "                     'Bond',\n",
      "                     'MutualFund',\n",
      "                     'CfdOnIndex',\n",
      "                     'CfdOnFutures',\n",
      "                     'FxKnockInOption',\n",
      "                     'FxKnockOutOption',\n",
      "                     'FxOneTouchOption',\n",
      "                     'FxNoTouchOption',\n",
      "                     'StockIndexOption',\n",
      "                     'FuturesStrategy',\n",
      "                     'StockIndex'],\n",
      " 'LegalAssetTypesAreIndicative': False,\n",
      " 'MarginMonitoringMode': 'Margin',\n",
      " 'MutualFundsCashAmountOrderCurrency': 'Instrument',\n",
      " 'Name': 'F. Brekeveld',\n",
      " 'PositionNettingMode': 'EndOfDay',\n",
      " 'SupportsAccountValueProtectionLimit': True}\n"
     ]
    }
   ],
   "source": [
    "r = pf.clients.ClientDetailsMe()\n",
    "rv = client.request(r)\n",
    "pprint(rv)"
   ]
  },
  {
   "cell_type": "code",
   "execution_count": 3,
   "metadata": {},
   "outputs": [
    {
     "name": "stdout",
     "output_type": "stream",
     "text": [
      "API-endpoint   : openapi/port/v1/clients/me\n",
      "METHOD         : GET\n",
      "Response status: 200\n"
     ]
    }
   ],
   "source": [
    "juputil.request_info(r)"
   ]
  },
  {
   "cell_type": "code",
   "execution_count": 4,
   "metadata": {},
   "outputs": [],
   "source": [
    "# from prior output take the ClientKey and construct a params dict\n",
    "params = {\n",
    "    'ClientKey': rv['ClientKey']\n",
    "}"
   ]
  },
  {
   "cell_type": "code",
   "execution_count": 5,
   "metadata": {},
   "outputs": [
    {
     "name": "stdout",
     "output_type": "stream",
     "text": [
      "{'CalculationReliability': 'Ok',\n",
      " 'CashBalance': 2004082.31,\n",
      " 'ChangesScheduled': False,\n",
      " 'ClosedPositionsCount': 0,\n",
      " 'CollateralAvailable': 0.0,\n",
      " 'CollateralCreditValue': {'Line': 1923445.56, 'UtilzationPct': 0.0},\n",
      " 'CostToClosePositions': -53.67,\n",
      " 'Currency': 'EUR',\n",
      " 'CurrencyDecimals': 2,\n",
      " 'InitialMargin': {'CollateralAvailable': 0.0,\n",
      "                   'MarginAvailable': 1890592.19,\n",
      "                   'MarginCollateralNotAvailable': 0.0,\n",
      "                   'MarginUsedByCurrentPositions': -80583.08,\n",
      "                   'MarginUtilizationPct': 4.09,\n",
      "                   'NetEquityForMargin': 1971175.27},\n",
      " 'IsPortfolioMarginModelSimple': False,\n",
      " 'MarginAvailableForTrading': 1890592.19,\n",
      " 'MarginCollateralNotAvailable': 0.0,\n",
      " 'MarginExposureCoveragePct': 116.14,\n",
      " 'MarginNetExposure': 1697257.88,\n",
      " 'MarginUsedByCurrentPositions': -80583.08,\n",
      " 'MarginUtilizationPct': 4.09,\n",
      " 'NetEquityForMargin': 1971175.27,\n",
      " 'NetPositionsCount': 18,\n",
      " 'NonMarginPositionsValue': 0.0,\n",
      " 'OpenPositionsCount': 18,\n",
      " 'OptionPremiumsMarketValue': -35336.25,\n",
      " 'OrdersCount': 0,\n",
      " 'OtherCollateral': 0.0,\n",
      " 'TotalValue': 1971175.27,\n",
      " 'TransactionsNotBooked': 0.0,\n",
      " 'UnrealizedMarginClosedProfitLoss': 0.0,\n",
      " 'UnrealizedMarginOpenProfitLoss': 2482.89,\n",
      " 'UnrealizedMarginProfitLoss': 2482.89,\n",
      " 'UnrealizedPositionsValue': -32907.03}\n"
     ]
    }
   ],
   "source": [
    "# request the balances\n",
    "r = pf.balances.AccountBalances(params=params)\n",
    "rv = client.request(r)\n",
    "pprint(rv)"
   ]
  },
  {
   "cell_type": "code",
   "execution_count": 6,
   "metadata": {},
   "outputs": [
    {
     "name": "stdout",
     "output_type": "stream",
     "text": [
      "API-endpoint   : openapi/port/v1/balances\n",
      "METHOD         : GET\n",
      "Response status: 200\n",
      "CashBalance          : 2004082.31\n",
      "NetEquityForMargin   : 1971175.27\n",
      "MarginNetExposure    : 1697257.88\n",
      "NetPositionsCount    :      18.00\n"
     ]
    }
   ],
   "source": [
    "juputil.request_info(r)\n",
    "\n",
    "for k in ['CashBalance', 'NetEquityForMargin', 'MarginNetExposure', 'NetPositionsCount']: \n",
    "    print(\"{:<20s} : {:10.2f}\".format(k, rv[k]))"
   ]
  },
  {
   "cell_type": "markdown",
   "metadata": {},
   "source": [
    "## Using *account_info()*\n",
    "\n",
    "The prior request uses:\n",
    "    \n",
    "```\n",
    "r = pf.clients.ClientDetailsMe()\n",
    "rv = client.request(r)\n",
    "params = {\n",
    "    'ClientKey': rv['ClientKey']\n",
    "}\n",
    "```\n",
    "\n",
    "to setup the *params* for:\n",
    "    \n",
    "```\n",
    "r = pf.balances.AccountBalances(params=params)\n",
    "```\n",
    "\n",
    "This can be shortened by using *account_info()*"
   ]
  },
  {
   "cell_type": "code",
   "execution_count": 7,
   "metadata": {},
   "outputs": [
    {
     "name": "stdout",
     "output_type": "stream",
     "text": [
      "{'ClientKey': 'fOA0tvOyQqW2aHpWi9P5bw=='}\n"
     ]
    }
   ],
   "source": [
    "from saxo_openapi.contrib.session import account_info\n",
    "\n",
    "ai = account_info(client)\n",
    "params = {\n",
    "    'ClientKey': ai.ClientKey\n",
    "}\n",
    "print(params)"
   ]
  },
  {
   "cell_type": "markdown",
   "metadata": {},
   "source": [
    "## AccountBalancesMe\n",
    "\n",
    "Another request that gives information regarding *balances* is *AccountBalancesMe()*:"
   ]
  },
  {
   "cell_type": "code",
   "execution_count": 8,
   "metadata": {},
   "outputs": [
    {
     "name": "stdout",
     "output_type": "stream",
     "text": [
      "{'CalculationReliability': 'Ok',\n",
      " 'CashBalance': 2004082.31,\n",
      " 'ChangesScheduled': False,\n",
      " 'ClosedPositionsCount': 0,\n",
      " 'CollateralAvailable': 0.0,\n",
      " 'CollateralCreditValue': {'Line': 1923445.5, 'UtilzationPct': 0.0},\n",
      " 'CostToClosePositions': -53.67,\n",
      " 'Currency': 'EUR',\n",
      " 'CurrencyDecimals': 2,\n",
      " 'InitialMargin': {'CollateralAvailable': 0.0,\n",
      "                   'MarginAvailable': 1890599.61,\n",
      "                   'MarginCollateralNotAvailable': 0.0,\n",
      "                   'MarginUsedByCurrentPositions': -80583.14,\n",
      "                   'MarginUtilizationPct': 4.09,\n",
      "                   'NetEquityForMargin': 1971182.75},\n",
      " 'IsPortfolioMarginModelSimple': False,\n",
      " 'MarginAvailableForTrading': 1890599.61,\n",
      " 'MarginCollateralNotAvailable': 0.0,\n",
      " 'MarginExposureCoveragePct': 116.17,\n",
      " 'MarginNetExposure': 1696795.8,\n",
      " 'MarginUsedByCurrentPositions': -80583.14,\n",
      " 'MarginUtilizationPct': 4.09,\n",
      " 'NetEquityForMargin': 1971182.75,\n",
      " 'NetPositionsCount': 18,\n",
      " 'NonMarginPositionsValue': 0.0,\n",
      " 'OpenPositionsCount': 18,\n",
      " 'OptionPremiumsMarketValue': -35296.53,\n",
      " 'OrdersCount': 0,\n",
      " 'OtherCollateral': 0.0,\n",
      " 'TotalValue': 1971182.75,\n",
      " 'TransactionsNotBooked': 0.0,\n",
      " 'UnrealizedMarginClosedProfitLoss': 0.0,\n",
      " 'UnrealizedMarginOpenProfitLoss': 2450.66,\n",
      " 'UnrealizedMarginProfitLoss': 2450.66,\n",
      " 'UnrealizedPositionsValue': -32899.54}\n"
     ]
    }
   ],
   "source": [
    "r = pf.balances.AccountBalancesMe()\n",
    "rv = client.request(r)\n",
    "pprint(rv)"
   ]
  },
  {
   "cell_type": "code",
   "execution_count": 9,
   "metadata": {},
   "outputs": [
    {
     "name": "stdout",
     "output_type": "stream",
     "text": [
      "API-endpoint   : openapi/port/v1/balances/me\n",
      "METHOD         : GET\n",
      "Response status: 200\n",
      "CashBalance          : 2004082.31\n",
      "NetEquityForMargin   : 1971182.75\n",
      "MarginNetExposure    : 1696795.80\n",
      "NetPositionsCount    :      18.00\n"
     ]
    }
   ],
   "source": [
    "juputil.request_info(r)\n",
    "for k in ['CashBalance', 'NetEquityForMargin', 'MarginNetExposure', 'NetPositionsCount']: \n",
    "    print(\"{:<20s} : {:10.2f}\".format(k, rv[k]))"
   ]
  }
 ],
 "metadata": {
  "kernelspec": {
   "display_name": "Python 3",
   "language": "python",
   "name": "python3"
  },
  "language_info": {
   "codemirror_mode": {
    "name": "ipython",
    "version": 3
   },
   "file_extension": ".py",
   "mimetype": "text/x-python",
   "name": "python",
   "nbconvert_exporter": "python",
   "pygments_lexer": "ipython3",
   "version": "3.7.3"
  }
 },
 "nbformat": 4,
 "nbformat_minor": 2
}
