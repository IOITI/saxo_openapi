{
 "cells": [
  {
   "cell_type": "markdown",
   "metadata": {},
   "source": [
    "# Balances\n",
    "\n",
    "[index](./index.ipynb) |\n",
    "[accounts](./accounts.ipynb) |\n",
    "[trading](./trading.ipynb)\n",
    "\n",
    "All the *balance* related requests can be found in the service group: *portfolio.balances*."
   ]
  },
  {
   "cell_type": "code",
   "execution_count": 17,
   "metadata": {},
   "outputs": [],
   "source": [
    "from saxo_openapi import API\n",
    "import saxo_openapi.endpoints.portfolio as pf\n",
    "from pprint import pprint\n",
    "import exampleauth\n",
    "\n",
    "token = exampleauth.read_token()\n",
    "client = API(access_token=token)"
   ]
  },
  {
   "cell_type": "markdown",
   "metadata": {},
   "source": [
    "## Get the balance for an account\n",
    "\n",
    "First get the *clientdetails*."
   ]
  },
  {
   "cell_type": "code",
   "execution_count": 18,
   "metadata": {},
   "outputs": [
    {
     "name": "stdout",
     "output_type": "stream",
     "text": [
      "{'AccountValueProtectionLimit': 0.0,\n",
      " 'ClientId': '9300675',\n",
      " 'ClientKey': 'fOA0tvOyQqW2aHpWi9P5bw==',\n",
      " 'CurrencyDecimals': 2,\n",
      " 'DefaultAccountId': '9300675',\n",
      " 'DefaultAccountKey': 'fOA0tvOyQqW2aHpWi9P5bw==',\n",
      " 'DefaultCurrency': 'EUR',\n",
      " 'IsMarginTradingAllowed': True,\n",
      " 'IsVariationMarginEligible': False,\n",
      " 'LegalAssetTypes': ['FxSpot',\n",
      "                     'FxForwards',\n",
      "                     'FxVanillaOption',\n",
      "                     'ContractFutures',\n",
      "                     'FuturesOption',\n",
      "                     'Stock',\n",
      "                     'StockOption',\n",
      "                     'CfdOnStock',\n",
      "                     'Bond',\n",
      "                     'MutualFund',\n",
      "                     'CfdOnIndex',\n",
      "                     'CfdOnFutures',\n",
      "                     'FxKnockInOption',\n",
      "                     'FxKnockOutOption',\n",
      "                     'FxOneTouchOption',\n",
      "                     'FxNoTouchOption',\n",
      "                     'StockIndexOption',\n",
      "                     'FuturesStrategy',\n",
      "                     'StockIndex'],\n",
      " 'LegalAssetTypesAreIndicative': False,\n",
      " 'MutualFundsCashAmountOrderCurrency': 'Instrument',\n",
      " 'Name': 'F. Brekeveld',\n",
      " 'PositionNettingMode': 'EndOfDay',\n",
      " 'SupportsAccountValueProtectionLimit': True}\n"
     ]
    }
   ],
   "source": [
    "r = pf.clients.ClientDetailsMe()\n",
    "rv = client.request(r)\n",
    "pprint(rv)"
   ]
  },
  {
   "cell_type": "code",
   "execution_count": 20,
   "metadata": {},
   "outputs": [
    {
     "name": "stdout",
     "output_type": "stream",
     "text": [
      "API-path: openapi/port/v1/clients/me\n",
      "METHOD: GET\n",
      "Response status: 200\n"
     ]
    }
   ],
   "source": [
    "print(\"API-endpoint: {}\".format(r))\n",
    "print(\"METHOD: {}\".format(r.method))\n",
    "print(\"Response status: {}\".format(r.status_code))"
   ]
  },
  {
   "cell_type": "code",
   "execution_count": 21,
   "metadata": {},
   "outputs": [],
   "source": [
    "# from prior output take the ClientKey and construct a params dict\n",
    "params = {\n",
    "    'ClientKey': rv['ClientKey']\n",
    "}"
   ]
  },
  {
   "cell_type": "code",
   "execution_count": 22,
   "metadata": {},
   "outputs": [
    {
     "name": "stdout",
     "output_type": "stream",
     "text": [
      "Endpoint:  openapi/port/v1/balances\n",
      "{'CalculationReliability': 'Ok',\n",
      " 'CashBalance': 100823.61,\n",
      " 'ChangesScheduled': False,\n",
      " 'ClosedPositionsCount': 0,\n",
      " 'CollateralCreditValue': {'Line': 99318.61, 'UtilzationPct': 0.0},\n",
      " 'CostToClosePositions': -5.0,\n",
      " 'Currency': 'EUR',\n",
      " 'CurrencyDecimals': 2,\n",
      " 'InitialMargin': {'MarginAvailable': 99831.99,\n",
      "                   'MarginUsedByCurrentPositions': -1500.0,\n",
      "                   'MarginUtilizationPct': 1.48,\n",
      "                   'NetEquityForMargin': 101331.99},\n",
      " 'IsPortfolioMarginModelSimple': False,\n",
      " 'MarginAvailableForTrading': 99831.99,\n",
      " 'MarginCollateralNotAvailable': 0.0,\n",
      " 'MarginExposureCoveragePct': 159.65,\n",
      " 'MarginNetExposure': 63472.86,\n",
      " 'MarginUsedByCurrentPositions': -1500.0,\n",
      " 'MarginUtilizationPct': 1.48,\n",
      " 'NetEquityForMargin': 101331.99,\n",
      " 'NetPositionsCount': 2,\n",
      " 'NonMarginPositionsValue': 0.0,\n",
      " 'OpenPositionsCount': 2,\n",
      " 'OptionPremiumsMarketValue': -534.52,\n",
      " 'OrdersCount': 1,\n",
      " 'OtherCollateral': 0.0,\n",
      " 'TotalValue': 101331.99,\n",
      " 'TransactionsNotBooked': 0.0,\n",
      " 'UnrealizedMarginClosedProfitLoss': 0.0,\n",
      " 'UnrealizedMarginOpenProfitLoss': 1047.9,\n",
      " 'UnrealizedMarginProfitLoss': 1047.9,\n",
      " 'UnrealizedPositionsValue': 508.38}\n"
     ]
    }
   ],
   "source": [
    "# request the balances\n",
    "r = pf.balances.AccountBalances(params=params)\n",
    "rv = client.request(r)\n",
    "print(\"Endpoint: \", r)\n",
    "pprint(rv)"
   ]
  },
  {
   "cell_type": "code",
   "execution_count": 36,
   "metadata": {},
   "outputs": [
    {
     "name": "stdout",
     "output_type": "stream",
     "text": [
      "API-endpoint    : openapi/port/v1/balances/me\n",
      "METHOD          : GET\n",
      "Response status : 200\n",
      "CashBalance          :  100823.61\n",
      "NetEquityForMargin   :  101310.69\n",
      "MarginNetExposure    :   60897.38\n",
      "NetPositionsCount    :       2.00\n"
     ]
    }
   ],
   "source": [
    "print(\"API-endpoint    : {}\".format(r))\n",
    "print(\"METHOD          : {}\".format(r.method))\n",
    "print(\"Response status : {}\".format(r.status_code))\n",
    "for k in ['CashBalance', 'NetEquityForMargin', 'MarginNetExposure', 'NetPositionsCount']: \n",
    "    print(\"{:<20s} : {:10.2f}\".format(k, rv[k]))"
   ]
  },
  {
   "cell_type": "markdown",
   "metadata": {},
   "source": [
    "## AccountBalancesMe\n",
    "\n",
    "Another request that gives information regarding *balances* is *AccoountBalancesMe()*:"
   ]
  },
  {
   "cell_type": "code",
   "execution_count": 38,
   "metadata": {},
   "outputs": [
    {
     "name": "stdout",
     "output_type": "stream",
     "text": [
      "{'CalculationReliability': 'Ok',\n",
      " 'CashBalance': 100823.61,\n",
      " 'ChangesScheduled': False,\n",
      " 'ClosedPositionsCount': 0,\n",
      " 'CollateralCreditValue': {'Line': 99318.61, 'UtilzationPct': 0.0},\n",
      " 'CostToClosePositions': -5.0,\n",
      " 'Currency': 'EUR',\n",
      " 'CurrencyDecimals': 2,\n",
      " 'InitialMargin': {'MarginAvailable': 99815.03,\n",
      "                   'MarginUsedByCurrentPositions': -1500.0,\n",
      "                   'MarginUtilizationPct': 1.48,\n",
      "                   'NetEquityForMargin': 101315.03},\n",
      " 'IsPortfolioMarginModelSimple': False,\n",
      " 'MarginAvailableForTrading': 99815.03,\n",
      " 'MarginCollateralNotAvailable': 0.0,\n",
      " 'MarginExposureCoveragePct': 164.69,\n",
      " 'MarginNetExposure': 61517.31,\n",
      " 'MarginUsedByCurrentPositions': -1500.0,\n",
      " 'MarginUtilizationPct': 1.48,\n",
      " 'NetEquityForMargin': 101315.03,\n",
      " 'NetPositionsCount': 2,\n",
      " 'NonMarginPositionsValue': 0.0,\n",
      " 'OpenPositionsCount': 2,\n",
      " 'OptionPremiumsMarketValue': -510.07,\n",
      " 'OrdersCount': 1,\n",
      " 'OtherCollateral': 0.0,\n",
      " 'TotalValue': 101315.03,\n",
      " 'TransactionsNotBooked': 0.0,\n",
      " 'UnrealizedMarginClosedProfitLoss': 0.0,\n",
      " 'UnrealizedMarginOpenProfitLoss': 1006.49,\n",
      " 'UnrealizedMarginProfitLoss': 1006.49,\n",
      " 'UnrealizedPositionsValue': 491.42}\n"
     ]
    }
   ],
   "source": [
    "r = pf.balances.AccountBalancesMe()\n",
    "rv = client.request(r)\n",
    "pprint(rv)"
   ]
  },
  {
   "cell_type": "code",
   "execution_count": 39,
   "metadata": {},
   "outputs": [
    {
     "name": "stdout",
     "output_type": "stream",
     "text": [
      "API-endpoint    : openapi/port/v1/balances/me\n",
      "METHOD          : GET\n",
      "Response status : 200\n",
      "CashBalance          :  100823.61\n",
      "NetEquityForMargin   :  101315.03\n",
      "MarginNetExposure    :   61517.31\n",
      "NetPositionsCount    :       2.00\n"
     ]
    }
   ],
   "source": [
    "print(\"API-endpoint    : {}\".format(r))\n",
    "print(\"METHOD          : {}\".format(r.method))\n",
    "print(\"Response status : {}\".format(r.status_code))\n",
    "for k in ['CashBalance', 'NetEquityForMargin', 'MarginNetExposure', 'NetPositionsCount']: \n",
    "    print(\"{:<20s} : {:10.2f}\".format(k, rv[k]))"
   ]
  }
 ],
 "metadata": {
  "kernelspec": {
   "display_name": "Python 3",
   "language": "python",
   "name": "python3"
  },
  "language_info": {
   "codemirror_mode": {
    "name": "ipython",
    "version": 3
   },
   "file_extension": ".py",
   "mimetype": "text/x-python",
   "name": "python",
   "nbconvert_exporter": "python",
   "pygments_lexer": "ipython3",
   "version": "3.6.3"
  }
 },
 "nbformat": 4,
 "nbformat_minor": 2
}
