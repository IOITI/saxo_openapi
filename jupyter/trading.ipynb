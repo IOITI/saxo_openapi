{
 "cells": [
  {
   "cell_type": "markdown",
   "metadata": {},
   "source": [
    "# Trading & Positions\n",
    "\n",
    "[index](./index.ipynb) |\n",
    "[accounts](./accounts.ipynb) |\n",
    "[balances](./balances.ipynb)"
   ]
  },
  {
   "cell_type": "code",
   "execution_count": 1,
   "metadata": {},
   "outputs": [],
   "source": [
    "# SAXO related imports\n",
    "from saxo_openapi import API\n",
    "from saxo_openapi.exceptions import OpenAPIError\n",
    "# endpoints for trading en portfolio service group\n",
    "import saxo_openapi.endpoints.trading as tr\n",
    "import saxo_openapi.endpoints.portfolio as pf\n",
    "# to make life easier\n",
    "from saxo_openapi.contrib.session import account_info\n",
    "\n",
    "import json\n",
    "import juputil\n",
    "from pprint import pprint\n",
    "\n",
    "import pandas as pd"
   ]
  },
  {
   "cell_type": "code",
   "execution_count": 2,
   "metadata": {},
   "outputs": [],
   "source": [
    "# The basic setup\n",
    "token = juputil.read_token()\n",
    "client = API(access_token=token)\n",
    "# and fetch our account information\n",
    "ai = account_info(client)"
   ]
  },
  {
   "cell_type": "markdown",
   "metadata": {},
   "source": [
    "## Create some orders\n",
    "\n",
    "SAXO Bank offers a lot of instruments to trade. Not all ordertypes apply for all instruments.\n",
    "\n",
    "The *saxo_openapi* library offers some classes to construct orderbodies pretty easy. "
   ]
  },
  {
   "cell_type": "code",
   "execution_count": 3,
   "metadata": {},
   "outputs": [],
   "source": [
    "from saxo_openapi.contrib.orders import MarketOrder, MarketOrderFxSpot, tie_account_to_order\n",
    "import saxo_openapi.contrib.orders.onfill as onfill\n",
    "import saxo_openapi.definitions.orders as OD"
   ]
  },
  {
   "cell_type": "markdown",
   "metadata": {},
   "source": [
    "### Market order: Short 10k EURUSD\n",
    "\n",
    "This can be done by using the generic *MarketOrder* class, but also by using *MarketOrderFxSpot*"
   ]
  },
  {
   "cell_type": "code",
   "execution_count": 4,
   "metadata": {},
   "outputs": [
    {
     "name": "stdout",
     "output_type": "stream",
     "text": [
      "mo1 == mo2: True\n",
      "\n",
      "{'Amount': 10000,\n",
      " 'AmountType': 'Quantity',\n",
      " 'AssetType': 'FxSpot',\n",
      " 'BuySell': 'Sell',\n",
      " 'OrderDuration': {'DurationType': 'DayOrder'},\n",
      " 'OrderType': 'Market',\n",
      " 'Uic': 21}\n"
     ]
    }
   ],
   "source": [
    "mo1 = MarketOrder(Uic=21, AssetType=OD.AssetType.FxSpot, Amount=-10000)\n",
    "# or\n",
    "mo2 = MarketOrderFxSpot(Uic=21, Amount=-10000)\n",
    "\n",
    "print(\"mo1 == mo2: {}\\n\".format(mo1.data == mo2.data))\n",
    "pprint(mo1.data)"
   ]
  },
  {
   "cell_type": "markdown",
   "metadata": {},
   "source": [
    "### If done orders ...\n",
    "\n",
    "Adding a *StopLoss* and/or a *TakeProfit* order after the order got filled? That can be done\n",
    "pretty easy too. Create one of the possible *onfill* instances by simply passing the *price* where\n",
    "to take the profit / loss.\n",
    "Optionally you can override the defaults for for instance the *orderduration*. Check the *saxo_openapi* -documentation for details."
   ]
  },
  {
   "cell_type": "code",
   "execution_count": 5,
   "metadata": {},
   "outputs": [
    {
     "name": "stdout",
     "output_type": "stream",
     "text": [
      "{'Amount': 10000,\n",
      " 'AmountType': 'Quantity',\n",
      " 'AssetType': 'FxSpot',\n",
      " 'BuySell': 'Sell',\n",
      " 'OrderDuration': {'DurationType': 'DayOrder'},\n",
      " 'OrderType': 'Market',\n",
      " 'Orders': [{'Amount': 10000,\n",
      "             'AssetType': 'FxSpot',\n",
      "             'BuySell': 'Buy',\n",
      "             'OrderDuration': {'DurationType': 'GoodTillCancel'},\n",
      "             'OrderPrice': 1.0945,\n",
      "             'OrderType': 'Limit',\n",
      "             'Uic': 21},\n",
      "            {'Amount': 10000,\n",
      "             'AssetType': 'FxSpot',\n",
      "             'BuySell': 'Buy',\n",
      "             'OrderDuration': {'DurationType': 'GoodTillCancel'},\n",
      "             'OrderPrice': 1.1255,\n",
      "             'OrderType': 'Stop',\n",
      "             'Uic': 21}],\n",
      " 'Uic': 21}\n"
     ]
    }
   ],
   "source": [
    "# current price of EURUSD is 1.1215,\n",
    "# SL: lets close the Short if it reaches 1.1255\n",
    "# TP: lets take profit if it reaches 1.0945\n",
    "mo_sl_tp = MarketOrderFxSpot(Uic=21,\n",
    "                             Amount=-10000,\n",
    "                             StopLossOnFill=onfill.StopLossDetails(1.1255),\n",
    "                             TakeProfitOnFill=onfill.TakeProfitDetails(1.0945))\n",
    "pprint(mo_sl_tp.data)"
   ]
  },
  {
   "cell_type": "markdown",
   "metadata": {},
   "source": [
    "### So far ... \n",
    "\n",
    "We have an orderbody that represents the instrument the way we want to trade it.\n",
    "\n",
    "But for SAXO Bank to be able to process that orderbody it needs the *account* for which\n",
    "the order applies. \n",
    "\n",
    "So, the orderbody needs to be 'enriched' with the *AccountKey* of the account.\n",
    "\n",
    "The *saxo_openapi.contrib.orders* module offers a function *tie_account_to_order*. This\n",
    "function processes the orderbody and injects the *AccountKey* there where needed.\n",
    "\n",
    "    ...\n",
    "    ai = account_info(client)\n",
    "    ...\n",
    "    mo = tie_account_to_order(ai.AccountKey, mo_sl_tp)\n",
    "    r = tr.orders.Order(data=mo)\n",
    "    rv = client.request(r)\n",
    "    \n",
    "This decoupled approach makes it easy to process the order for multiple accounts:"
   ]
  },
  {
   "cell_type": "code",
   "execution_count": 6,
   "metadata": {},
   "outputs": [
    {
     "name": "stdout",
     "output_type": "stream",
     "text": [
      "{'AccountKey': 'fOA0tvOyQqW2aHpWi9P5bw==',\n",
      " 'Amount': 10000,\n",
      " 'AmountType': 'Quantity',\n",
      " 'AssetType': 'FxSpot',\n",
      " 'BuySell': 'Sell',\n",
      " 'OrderDuration': {'DurationType': 'DayOrder'},\n",
      " 'OrderType': 'Market',\n",
      " 'Orders': [{'AccountKey': 'fOA0tvOyQqW2aHpWi9P5bw==',\n",
      "             'Amount': 10000,\n",
      "             'AssetType': 'FxSpot',\n",
      "             'BuySell': 'Buy',\n",
      "             'OrderDuration': {'DurationType': 'GoodTillCancel'},\n",
      "             'OrderPrice': 1.0945,\n",
      "             'OrderType': 'Limit',\n",
      "             'Uic': 21},\n",
      "            {'AccountKey': 'fOA0tvOyQqW2aHpWi9P5bw==',\n",
      "             'Amount': 10000,\n",
      "             'AssetType': 'FxSpot',\n",
      "             'BuySell': 'Buy',\n",
      "             'OrderDuration': {'DurationType': 'GoodTillCancel'},\n",
      "             'OrderPrice': 1.1255,\n",
      "             'OrderType': 'Stop',\n",
      "             'Uic': 21}],\n",
      " 'Uic': 21}\n"
     ]
    }
   ],
   "source": [
    "# use tie_account_to_order to inject the AccountKey\n",
    "mo = tie_account_to_order(ai.AccountKey, mo_sl_tp)\n",
    "pprint(mo)"
   ]
  },
  {
   "cell_type": "markdown",
   "metadata": {},
   "source": [
    "## Place the order ...\n",
    "\n",
    "Place the order by passing the *mo*- order specification for the market order."
   ]
  },
  {
   "cell_type": "code",
   "execution_count": 7,
   "metadata": {},
   "outputs": [
    {
     "name": "stdout",
     "output_type": "stream",
     "text": [
      "{\n",
      "  \"OrderId\": \"77244780\",\n",
      "  \"Orders\": [\n",
      "    {\n",
      "      \"OrderId\": \"77244781\"\n",
      "    },\n",
      "    {\n",
      "      \"OrderId\": \"77244782\"\n",
      "    }\n",
      "  ]\n",
      "}\n"
     ]
    }
   ],
   "source": [
    "r = tr.orders.Order(data=mo)\n",
    "rv = client.request(r)\n",
    "print(json.dumps(rv, indent=2))"
   ]
  },
  {
   "cell_type": "markdown",
   "metadata": {},
   "source": [
    "... The marketorder OrderId and in \"Orders\" [] the OrderId's of the 'IfDone-orders'\n",
    "\n",
    "## Lets find these orders ..."
   ]
  },
  {
   "cell_type": "code",
   "execution_count": 8,
   "metadata": {},
   "outputs": [
    {
     "name": "stdout",
     "output_type": "stream",
     "text": [
      "{'Data': [{'AccountId': '9300675',\n",
      "           'AccountKey': 'fOA0tvOyQqW2aHpWi9P5bw==',\n",
      "           'Amount': 10000.0,\n",
      "           'AssetType': 'FxSpot',\n",
      "           'BuySell': 'Buy',\n",
      "           'CalculationReliability': 'Ok',\n",
      "           'ClientKey': 'fOA0tvOyQqW2aHpWi9P5bw==',\n",
      "           'CorrelationKey': 'a97e5b1c-951f-447c-882c-35c3f8dfccf6',\n",
      "           'CurrentPrice': 1.11868,\n",
      "           'CurrentPriceDelayMinutes': 0,\n",
      "           'CurrentPriceType': 'Bid',\n",
      "           'DistanceToMarket': 0.00682,\n",
      "           'Duration': {'DurationType': 'GoodTillCancel'},\n",
      "           'IsMarketOpen': True,\n",
      "           'MarketPrice': 1.11868,\n",
      "           'OpenOrderType': 'Stop',\n",
      "           'OrderAmountType': 'Quantity',\n",
      "           'OrderId': '77244782',\n",
      "           'OrderRelation': 'Oco',\n",
      "           'OrderTime': '2019-05-03T15:00:39.490000Z',\n",
      "           'Price': 1.1255,\n",
      "           'RelatedOpenOrders': [{'Amount': 10000.0,\n",
      "                                  'Duration': {'DurationType': 'GoodTillCancel'},\n",
      "                                  'OpenOrderType': 'Limit',\n",
      "                                  'OrderId': '77244781',\n",
      "                                  'OrderPrice': 1.0945}],\n",
      "           'RelatedPositionId': '219256066',\n",
      "           'Status': 'Working',\n",
      "           'Uic': 21},\n",
      "          {'AccountId': '9300675',\n",
      "           'AccountKey': 'fOA0tvOyQqW2aHpWi9P5bw==',\n",
      "           'Amount': 10000.0,\n",
      "           'AssetType': 'FxSpot',\n",
      "           'BuySell': 'Buy',\n",
      "           'CalculationReliability': 'Ok',\n",
      "           'ClientKey': 'fOA0tvOyQqW2aHpWi9P5bw==',\n",
      "           'CorrelationKey': 'a97e5b1c-951f-447c-882c-35c3f8dfccf6',\n",
      "           'CurrentPrice': 1.11888,\n",
      "           'CurrentPriceDelayMinutes': 0,\n",
      "           'CurrentPriceType': 'Ask',\n",
      "           'DistanceToMarket': 0.02438,\n",
      "           'Duration': {'DurationType': 'GoodTillCancel'},\n",
      "           'IsMarketOpen': True,\n",
      "           'MarketPrice': 1.11888,\n",
      "           'OpenOrderType': 'Limit',\n",
      "           'OrderAmountType': 'Quantity',\n",
      "           'OrderId': '77244781',\n",
      "           'OrderRelation': 'Oco',\n",
      "           'OrderTime': '2019-05-03T15:00:39.476666Z',\n",
      "           'Price': 1.0945,\n",
      "           'RelatedOpenOrders': [{'Amount': 10000.0,\n",
      "                                  'Duration': {'DurationType': 'GoodTillCancel'},\n",
      "                                  'OpenOrderType': 'Stop',\n",
      "                                  'OrderId': '77244782',\n",
      "                                  'OrderPrice': 1.1255}],\n",
      "           'RelatedPositionId': '219256066',\n",
      "           'Status': 'Working',\n",
      "           'Uic': 21}],\n",
      " '__count': 2}\n"
     ]
    }
   ],
   "source": [
    "r = pf.orders.GetOpenOrdersMe()\n",
    "rv = client.request(r)\n",
    "pprint(rv)"
   ]
  },
  {
   "cell_type": "markdown",
   "metadata": {},
   "source": [
    "Both the *Stop* order and the *Limit* order can be found here along with the *RelatedPositionId*.\n",
    "\n",
    "## Lets find the position created by the MarketOrder"
   ]
  },
  {
   "cell_type": "code",
   "execution_count": 38,
   "metadata": {},
   "outputs": [
    {
     "name": "stdout",
     "output_type": "stream",
     "text": [
      "{'NetPositionId': 'EURUSD__FxSpot',\n",
      " 'PositionBase': {'AccountId': '9300675',\n",
      "                  'Amount': -10000.0,\n",
      "                  'AssetType': 'FxSpot',\n",
      "                  'CanBeClosed': False,\n",
      "                  'ClientId': '9300675',\n",
      "                  'CloseConversionRateSettled': False,\n",
      "                  'CorrelationKey': 'a97e5b1c-951f-447c-882c-35c3f8dfccf6',\n",
      "                  'ExecutionTimeClose': '2019-05-03T15:39:38.204750Z',\n",
      "                  'ExecutionTimeOpen': '2019-05-03T15:00:39.483416Z',\n",
      "                  'IsMarketOpen': True,\n",
      "                  'OpenPrice': 1.11855,\n",
      "                  'RelatedOpenOrders': [],\n",
      "                  'RelatedPositionId': '219259468',\n",
      "                  'SourceOrderId': '77244780',\n",
      "                  'SpotDate': '2019-05-07',\n",
      "                  'Status': 'Closed',\n",
      "                  'Uic': 21,\n",
      "                  'ValueDate': '2019-05-07T00:00:00.000000Z'},\n",
      " 'PositionId': '219256066',\n",
      " 'PositionView': {'CalculationReliability': 'Ok',\n",
      "                  'ConversionRateClose': 0.893215,\n",
      "                  'ConversionRateOpen': 0.893215,\n",
      "                  'CurrentPrice': 1.11873,\n",
      "                  'CurrentPriceDelayMinutes': 0,\n",
      "                  'CurrentPriceType': 'Ask',\n",
      "                  'InstrumentPriceDayPercentChange': 0.21,\n",
      "                  'ProfitLossOnTrade': -1.8,\n",
      "                  'ProfitLossOnTradeInBaseCurrency': -1.61,\n",
      "                  'TradeCostsTotal': -6.0,\n",
      "                  'TradeCostsTotalInBaseCurrency': -5.36}}\n"
     ]
    }
   ],
   "source": [
    "SRC_OrderId = 77244780\n",
    "r = pf.positions.PositionsMe()\n",
    "rv = client.request(r)\n",
    "#pprint(rv)\n",
    "clpos = None\n",
    "for P in rv['Data']:\n",
    "    if not pos['PositionBase']['CanBeClosed']:\n",
    "        continue\n",
    "    if 'SourceOrderId' in P['PositionBase'] and P['PositionBase']['SourceOrderId'] == str(SRC_OrderId):\n",
    "        pprint(P)\n",
    "        clpos = P  # and save it in clpos"
   ]
  },
  {
   "cell_type": "markdown",
   "metadata": {},
   "source": [
    "## Close the position\n",
    "\n",
    "Positions can be closed explicitely and implicitely. Explicite closing can only be done when the account\n",
    "is set to 'End-Of-Day-Netting'.\n",
    "\n",
    "NOTE: Only an *explicite close* cancels related OCO orders!\n"
   ]
  },
  {
   "cell_type": "code",
   "execution_count": 22,
   "metadata": {},
   "outputs": [],
   "source": [
    "from saxo_openapi.contrib.orders import direction_from_amount\n",
    "from saxo_openapi.contrib.orders.helper import direction_invert\n",
    "\n",
    "def close_position(position):\n",
    "    if not position['PositionBase']['CanBeClosed']:\n",
    "        raise ValueError(\"Position already closed\")\n",
    "    \n",
    "    direction = direction_from_amount(position['PositionBase']['Amount'])\n",
    "    direction = direction_invert(direction)\n",
    "    \n",
    "    data = {'PositionId': position['PositionId'],\n",
    "            'Orders': [{\n",
    "                'Uic': position['PositionBase']['Uic'],\n",
    "                'AssetType': position['PositionBase']['AssetType'],\n",
    "                'Amount': abs(position['PositionBase']['Amount']),\n",
    "                'OrderType': 'Market',\n",
    "                'BuySell': direction,\n",
    "                'OrderDuration': {\n",
    "                    'DurationType': 'DayOrder'\n",
    "                }\n",
    "            }]}\n",
    "    return data"
   ]
  },
  {
   "cell_type": "code",
   "execution_count": 23,
   "metadata": {},
   "outputs": [
    {
     "name": "stdout",
     "output_type": "stream",
     "text": [
      "{'Orders': [{'Amount': 10000.0,\n",
      "             'AssetType': 'FxSpot',\n",
      "             'BuySell': 'Buy',\n",
      "             'OrderDuration': {'DurationType': 'DayOrder'},\n",
      "             'OrderType': 'Market',\n",
      "             'Uic': 21}],\n",
      " 'PositionId': '219256066'}\n",
      "{'Orders': [{'AccountKey': 'fOA0tvOyQqW2aHpWi9P5bw==',\n",
      "             'Amount': 10000.0,\n",
      "             'AssetType': 'FxSpot',\n",
      "             'BuySell': 'Buy',\n",
      "             'OrderDuration': {'DurationType': 'DayOrder'},\n",
      "             'OrderType': 'Market',\n",
      "             'Uic': 21}],\n",
      " 'PositionId': '219256066'}\n"
     ]
    }
   ],
   "source": [
    "pcls = close_position(clpos)\n",
    "pprint(pcls)\n",
    "data = tie_account_to_order(ai.AccountKey, pcls)\n",
    "pprint(data)"
   ]
  },
  {
   "cell_type": "code",
   "execution_count": 24,
   "metadata": {},
   "outputs": [
    {
     "name": "stdout",
     "output_type": "stream",
     "text": [
      "{\n",
      "  \"Orders\": [\n",
      "    {\n",
      "      \"OrderId\": \"77245705\"\n",
      "    }\n",
      "  ]\n",
      "}\n"
     ]
    }
   ],
   "source": [
    "rc = tr.orders.Order(data=data)\n",
    "try:\n",
    "    client.request(rc)\n",
    "except OpenAPIError as oae:\n",
    "    print(json.dumps(json.loads(oae.content), indent=2))\n",
    "else:\n",
    "    print(json.dumps(rc.response, indent=2))"
   ]
  }
 ],
 "metadata": {
  "kernelspec": {
   "display_name": "Python 3",
   "language": "python",
   "name": "python3"
  },
  "language_info": {
   "codemirror_mode": {
    "name": "ipython",
    "version": 3
   },
   "file_extension": ".py",
   "mimetype": "text/x-python",
   "name": "python",
   "nbconvert_exporter": "python",
   "pygments_lexer": "ipython3",
   "version": "3.7.3"
  }
 },
 "nbformat": 4,
 "nbformat_minor": 2
}
