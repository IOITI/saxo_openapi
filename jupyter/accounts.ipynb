{
 "cells": [
  {
   "cell_type": "markdown",
   "metadata": {},
   "source": [
    "# Accounts\n",
    "\n",
    "[index](./index.ipynb) |\n",
    "[balances](./balances.ipynb) |\n",
    "[trading](./trading.ipynb)"
   ]
  },
  {
   "cell_type": "code",
   "execution_count": 2,
   "metadata": {},
   "outputs": [],
   "source": [
    "from saxo_openapi import API\n",
    "import saxo_openapi.endpoints.portfolio as pf\n",
    "from pprint import pprint\n",
    "import exampleauth\n",
    "\n",
    "token = exampleauth.read_token()\n",
    "client = API(access_token=token)"
   ]
  },
  {
   "cell_type": "markdown",
   "metadata": {},
   "source": [
    "## Get some account details"
   ]
  },
  {
   "cell_type": "code",
   "execution_count": 4,
   "metadata": {},
   "outputs": [
    {
     "name": "stdout",
     "output_type": "stream",
     "text": [
      "{'Data': [{'AccountGroupKey': 'fOA0tvOyQqW2aHpWi9P5bw==',\n",
      "           'AccountId': '9300675',\n",
      "           'AccountKey': 'fOA0tvOyQqW2aHpWi9P5bw==',\n",
      "           'AccountType': 'Normal',\n",
      "           'Active': True,\n",
      "           'CanUseCashPositionsAsMarginCollateral': True,\n",
      "           'CfdBorrowingCostsActive': False,\n",
      "           'ClientId': '9300675',\n",
      "           'ClientKey': 'fOA0tvOyQqW2aHpWi9P5bw==',\n",
      "           'CreationDate': '2019-03-11T11:39:00.000000Z',\n",
      "           'Currency': 'EUR',\n",
      "           'CurrencyDecimals': 2,\n",
      "           'DirectMarketAccess': False,\n",
      "           'IndividualMargining': False,\n",
      "           'IsCurrencyConversionAtSettlementTime': True,\n",
      "           'IsMarginTradingAllowed': True,\n",
      "           'IsShareable': False,\n",
      "           'IsTrialAccount': True,\n",
      "           'LegalAssetTypes': ['FxSpot',\n",
      "                               'FxForwards',\n",
      "                               'FxVanillaOption',\n",
      "                               'ContractFutures',\n",
      "                               'FuturesOption',\n",
      "                               'Stock',\n",
      "                               'StockOption',\n",
      "                               'CfdOnStock',\n",
      "                               'Bond',\n",
      "                               'MutualFund',\n",
      "                               'CfdOnIndex',\n",
      "                               'CfdOnFutures',\n",
      "                               'FxKnockInOption',\n",
      "                               'FxKnockOutOption',\n",
      "                               'FxOneTouchOption',\n",
      "                               'FxNoTouchOption',\n",
      "                               'StockIndexOption',\n",
      "                               'FuturesStrategy',\n",
      "                               'StockIndex'],\n",
      "           'Sharing': ['NoSharing'],\n",
      "           'SupportsAccountValueProtectionLimit': False,\n",
      "           'UseCashPositionsAsMarginCollateral': True}]}\n"
     ]
    }
   ],
   "source": [
    "r = pf.accounts.AccountsMe()\n",
    "rv = client.request(r)\n",
    "pprint(rv)"
   ]
  },
  {
   "cell_type": "code",
   "execution_count": 7,
   "metadata": {},
   "outputs": [
    {
     "name": "stdout",
     "output_type": "stream",
     "text": [
      "API-endpoint: openapi/port/v1/accounts/me\n",
      "METHOD: GET\n",
      "Response status: 200\n",
      "AccountId            : 9300675\n",
      "AccountKey           : fOA0tvOyQqW2aHpWi9P5bw==\n",
      "AccountGroupKey      : fOA0tvOyQqW2aHpWi9P5bw==\n",
      "ClientId             : 9300675\n",
      "ClientKey            : fOA0tvOyQqW2aHpWi9P5bw==\n"
     ]
    }
   ],
   "source": [
    "print(\"API-endpoint: {}\".format(r))\n",
    "print(\"METHOD: {}\".format(r.method))\n",
    "print(\"Response status: {}\".format(r.status_code))\n",
    "# process all accounts in Data[]\n",
    "for acct in rv['Data']:\n",
    "    for k in ['AccountId', 'AccountKey', 'AccountGroupKey', 'ClientId', 'ClientKey']: \n",
    "        print(\"{:<20s} : {:s}\".format(k, acct[k]))"
   ]
  },
  {
   "cell_type": "markdown",
   "metadata": {},
   "source": [
    "## Get details by the **AccountId**"
   ]
  },
  {
   "cell_type": "code",
   "execution_count": 8,
   "metadata": {},
   "outputs": [
    {
     "name": "stdout",
     "output_type": "stream",
     "text": [
      "{'AccountGroupKey': 'fOA0tvOyQqW2aHpWi9P5bw==',\n",
      " 'AccountId': '9300675',\n",
      " 'AccountKey': 'fOA0tvOyQqW2aHpWi9P5bw==',\n",
      " 'AccountType': 'Normal',\n",
      " 'Active': True,\n",
      " 'CanUseCashPositionsAsMarginCollateral': True,\n",
      " 'CfdBorrowingCostsActive': False,\n",
      " 'ClientId': '9300675',\n",
      " 'ClientKey': 'fOA0tvOyQqW2aHpWi9P5bw==',\n",
      " 'CreationDate': '2019-03-11T11:39:00.000000Z',\n",
      " 'Currency': 'EUR',\n",
      " 'CurrencyDecimals': 2,\n",
      " 'DirectMarketAccess': False,\n",
      " 'IndividualMargining': False,\n",
      " 'IsCurrencyConversionAtSettlementTime': True,\n",
      " 'IsMarginTradingAllowed': True,\n",
      " 'IsShareable': False,\n",
      " 'IsTrialAccount': True,\n",
      " 'LegalAssetTypes': ['FxSpot',\n",
      "                     'FxForwards',\n",
      "                     'FxVanillaOption',\n",
      "                     'ContractFutures',\n",
      "                     'FuturesOption',\n",
      "                     'Stock',\n",
      "                     'StockOption',\n",
      "                     'CfdOnStock',\n",
      "                     'Bond',\n",
      "                     'MutualFund',\n",
      "                     'CfdOnFutures',\n",
      "                     'FxKnockInOption',\n",
      "                     'FxKnockOutOption',\n",
      "                     'FxOneTouchOption',\n",
      "                     'FxNoTouchOption',\n",
      "                     'StockIndexOption',\n",
      "                     'FuturesStrategy',\n",
      "                     'CfdOnIndex',\n",
      "                     'StockIndex'],\n",
      " 'Sharing': ['NoSharing'],\n",
      " 'SupportsAccountValueProtectionLimit': False,\n",
      " 'UseCashPositionsAsMarginCollateral': True}\n"
     ]
    }
   ],
   "source": [
    "# Save the AccountKey from prior request\n",
    "AccountKey = rv['Data'][0]['AccountKey']\n",
    "# ... and initiate another request\n",
    "r = pf.accounts.AccountDetails(AccountKey=AccountKey)\n",
    "rv = client.request(r)\n",
    "pprint(rv)"
   ]
  }
 ],
 "metadata": {
  "kernelspec": {
   "display_name": "Python 3",
   "language": "python",
   "name": "python3"
  },
  "language_info": {
   "codemirror_mode": {
    "name": "ipython",
    "version": 3
   },
   "file_extension": ".py",
   "mimetype": "text/x-python",
   "name": "python",
   "nbconvert_exporter": "python",
   "pygments_lexer": "ipython3",
   "version": "3.6.3"
  }
 },
 "nbformat": 4,
 "nbformat_minor": 2
}
